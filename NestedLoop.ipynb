{
 "cells": [
  {
   "cell_type": "code",
   "execution_count": 18,
   "id": "2c5ed53a-f00c-46f9-9ec9-90ab875edcbe",
   "metadata": {},
   "outputs": [
    {
     "name": "stdout",
     "output_type": "stream",
     "text": [
      "11\n",
      "13\n",
      "15\n",
      "17\n",
      "19\n"
     ]
    }
   ],
   "source": [
    "i=11\n",
    "while(i<21):\n",
    "    if(i%2!=2):\n",
    "        print(i)\n",
    "    i=i+2"
   ]
  },
  {
   "cell_type": "code",
   "execution_count": 22,
   "id": "5adb0634-409e-4923-9171-130d46cc5f34",
   "metadata": {},
   "outputs": [
    {
     "name": "stdout",
     "output_type": "stream",
     "text": [
      "The number of occurence of the given character is 4\n"
     ]
    }
   ],
   "source": [
    "word=\"mississippi\"\n",
    "\n",
    "c=\"i\"\n",
    "\n",
    "count=0\n",
    "\n",
    "i=0\n",
    "\n",
    "while(i<len(word)):\n",
    "\n",
    "    if (c==word[i]):\n",
    "\n",
    "        count+=1\n",
    "\n",
    "    i+=1\n",
    "\n",
    "print(\"The number of occurence of the given character is\",count)"
   ]
  },
  {
   "cell_type": "code",
   "execution_count": null,
   "id": "b8a1456c-765b-404f-a3de-8add581ab738",
   "metadata": {},
   "outputs": [],
   "source": []
  }
 ],
 "metadata": {
  "kernelspec": {
   "display_name": "Python 3 (ipykernel)",
   "language": "python",
   "name": "python3"
  },
  "language_info": {
   "codemirror_mode": {
    "name": "ipython",
    "version": 3
   },
   "file_extension": ".py",
   "mimetype": "text/x-python",
   "name": "python",
   "nbconvert_exporter": "python",
   "pygments_lexer": "ipython3",
   "version": "3.12.4"
  }
 },
 "nbformat": 4,
 "nbformat_minor": 5
}
