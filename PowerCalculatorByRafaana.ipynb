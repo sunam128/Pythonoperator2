{
 "cells": [
  {
   "cell_type": "code",
   "execution_count": 1,
   "id": "1b8f307b-defa-4e06-8950-bce119cc8ebc",
   "metadata": {},
   "outputs": [
    {
     "name": "stdin",
     "output_type": "stream",
     "text": [
      "Enter a number you have to find the power of?  2\n",
      "Raised to the power of what?  2\n"
     ]
    },
    {
     "name": "stdout",
     "output_type": "stream",
     "text": [
      "2 raised to the power of 2 is 4\n"
     ]
    }
   ],
   "source": [
    "num1= int(input(\"Enter a number you have to find the power of? \"))\n",
    "\n",
    "num2= int(input(\"Raised to the power of what? \"))\n",
    "\n",
    "answer= num1**num2\n",
    "\n",
    "# double star means 2**3 it means 2X2X2\n",
    "\n",
    "print(f\"{num1} raised to the power of {num2} is {answer}\")"
   ]
  },
  {
   "cell_type": "code",
   "execution_count": null,
   "id": "8b8d0b76-b7e1-485e-94b7-6cf28c45e29a",
   "metadata": {},
   "outputs": [],
   "source": []
  }
 ],
 "metadata": {
  "kernelspec": {
   "display_name": "Python 3 (ipykernel)",
   "language": "python",
   "name": "python3"
  },
  "language_info": {
   "codemirror_mode": {
    "name": "ipython",
    "version": 3
   },
   "file_extension": ".py",
   "mimetype": "text/x-python",
   "name": "python",
   "nbconvert_exporter": "python",
   "pygments_lexer": "ipython3",
   "version": "3.12.4"
  }
 },
 "nbformat": 4,
 "nbformat_minor": 5
}
