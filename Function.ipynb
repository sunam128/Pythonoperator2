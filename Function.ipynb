{
 "cells": [
  {
   "cell_type": "code",
   "execution_count": 1,
   "id": "71f9402e-a51e-4a1f-a6f4-e3f29de428c6",
   "metadata": {},
   "outputs": [
    {
     "name": "stdout",
     "output_type": "stream",
     "text": [
      "100, 97, 94, 91, 88, 85, 82, 79, 76, 73, 70, 67, 64, 61, 58, 55, 52, "
     ]
    }
   ],
   "source": [
    "for i in range (100,49,-3):\n",
    "    print( i, end = \", \")"
   ]
  },
  {
   "cell_type": "code",
   "execution_count": 3,
   "id": "c9cade1f-9e94-4368-b61a-52421f8ba1c1",
   "metadata": {},
   "outputs": [
    {
     "name": "stdin",
     "output_type": "stream",
     "text": [
      "Enter 1st number 25\n",
      "Enter 2nd number 5\n"
     ]
    },
    {
     "name": "stdout",
     "output_type": "stream",
     "text": [
      "The division of the two numbers is  5.0\n",
      "The multiplication of the two numbers is  125\n"
     ]
    }
   ],
   "source": [
    "def division(a,b):\n",
    "    return a/b\n",
    "def multiplication (a,b):\n",
    "    return(a*b)\n",
    "\n",
    "num1=int(input(\"Enter 1st number\"))\n",
    "num2=int(input(\"Enter 2nd number\"))\n",
    "print(\"The division of the two numbers is \", division(num1, num2))\n",
    "print(\"The multiplication of the two numbers is \", multiplication(num1, num2))\n",
    "\n"
   ]
  },
  {
   "cell_type": "code",
   "execution_count": 5,
   "id": "54620666-c4c9-4802-85d4-cb223850efef",
   "metadata": {},
   "outputs": [
    {
     "name": "stdout",
     "output_type": "stream",
     "text": [
      "Hello, how are you?\n"
     ]
    }
   ],
   "source": [
    "def greet():\n",
    "    print(\"Hello, how are you?\")\n",
    "greet ()\n",
    "\n"
   ]
  },
  {
   "cell_type": "code",
   "execution_count": 11,
   "id": "96dfd9b2-84ae-4e3d-ba16-8005fb43b431",
   "metadata": {},
   "outputs": [
    {
     "name": "stdin",
     "output_type": "stream",
     "text": [
      "Enter the month June\n"
     ]
    },
    {
     "name": "stdout",
     "output_type": "stream",
     "text": [
      "This season is neither Spring nor Autumn \n"
     ]
    }
   ],
   "source": [
    "def season (month):\n",
    "        if (month==\"March\" or month==\"April\"):\n",
    "            print(\"This is spring\")\n",
    "        elif(month==\"September\" or month==\"October\"):\n",
    "            print(\"This is Autumn\")\n",
    "        else:\n",
    "            print(\"This season is neither Spring nor Autumn \")\n",
    "\n",
    "m=input(\"Enter the month\")\n",
    "season(m)"
   ]
  },
  {
   "cell_type": "code",
   "execution_count": null,
   "id": "c376f8d2-5fc6-42cb-b0c7-067384f6e45a",
   "metadata": {},
   "outputs": [],
   "source": []
  }
 ],
 "metadata": {
  "kernelspec": {
   "display_name": "Python 3 (ipykernel)",
   "language": "python",
   "name": "python3"
  },
  "language_info": {
   "codemirror_mode": {
    "name": "ipython",
    "version": 3
   },
   "file_extension": ".py",
   "mimetype": "text/x-python",
   "name": "python",
   "nbconvert_exporter": "python",
   "pygments_lexer": "ipython3",
   "version": "3.12.4"
  }
 },
 "nbformat": 4,
 "nbformat_minor": 5
}
