{
 "cells": [
  {
   "cell_type": "code",
   "execution_count": 1,
   "id": "d41598cd-2e15-44ff-bfa7-5fdceee59115",
   "metadata": {},
   "outputs": [
    {
     "name": "stdin",
     "output_type": "stream",
     "text": [
      "Enter the radius of your circle 14\n"
     ]
    },
    {
     "name": "stdout",
     "output_type": "stream",
     "text": [
      "The circumference is=  87.96\n"
     ]
    }
   ],
   "source": [
    "import math\n",
    "#math.pi\n",
    "radius=float(input(\"Enter the radius of your circle\"))\n",
    "circum=2*math.pi*radius\n",
    "print(\"The circumference is= \",round(circum,2))\n"
   ]
  },
  {
   "cell_type": "code",
   "execution_count": 7,
   "id": "577bcc8d-e98d-4901-8f61-f9fc87d87b0e",
   "metadata": {},
   "outputs": [
    {
     "name": "stdin",
     "output_type": "stream",
     "text": [
      "Enter the radius of your circle 14\n"
     ]
    },
    {
     "name": "stdout",
     "output_type": "stream",
     "text": [
      "The area is=  616\n"
     ]
    }
   ],
   "source": [
    "import math\n",
    "#math.pi\n",
    "radius=float(input(\"Enter the radius of your circle\"))\n",
    "\n",
    "area=math.pi*radius*radius\n",
    "print(\"The area is= \", round(area))\n"
   ]
  },
  {
   "cell_type": "code",
   "execution_count": 17,
   "id": "19fce3cb-49d0-4349-8cb4-4029d9dcbfa3",
   "metadata": {},
   "outputs": [
    {
     "name": "stdin",
     "output_type": "stream",
     "text": [
      "Enter a string her\n"
     ]
    },
    {
     "name": "stdout",
     "output_type": "stream",
     "text": [
      "This is the end\n"
     ]
    }
   ],
   "source": [
    "st=input(\"Enter a string\")\n",
    "i=0\n",
    "while(i<len(st)):\n",
    "    if(st[i]==\"A\" or st[i]==\"a\"):\n",
    "        print(\"A is found in position number \" , i+1)\n",
    "        print(\"Now the program terminates\")\n",
    "        break\n",
    "    i+=1\n",
    "print(\"This is the end\")"
   ]
  },
  {
   "cell_type": "code",
   "execution_count": 25,
   "id": "802657ce-1874-4415-bff1-66a6b8284795",
   "metadata": {},
   "outputs": [
    {
     "name": "stdout",
     "output_type": "stream",
     "text": [
      "10\n",
      "9\n",
      "8\n",
      "7\n",
      "6\n",
      "4\n",
      "3\n",
      "2\n",
      "1\n"
     ]
    }
   ],
   "source": [
    "for i in range(10,0,-1):\n",
    "    if (i==5):\n",
    "        continue\n",
    "    else:    \n",
    "         print(i)\n"
   ]
  },
  {
   "cell_type": "code",
   "execution_count": 29,
   "id": "64466244-e076-4277-9a49-a388f194ecbb",
   "metadata": {},
   "outputs": [
    {
     "name": "stdout",
     "output_type": "stream",
     "text": [
      "1\n",
      "3\n",
      "5\n",
      "7\n",
      "9\n"
     ]
    }
   ],
   "source": [
    "for i in range(10):\n",
    "    if i%2==0:\n",
    "        pass\n",
    "    else:\n",
    "        print(i)\n",
    "    "
   ]
  },
  {
   "cell_type": "code",
   "execution_count": null,
   "id": "ac869594-0bc8-40df-9dc0-da8e191c582c",
   "metadata": {},
   "outputs": [],
   "source": [
    "Write a program to satisfy the following conditions of the given range: If the number is divisible by 20, it provides an output \"twist.\" If the number is divisible by 15, it will pass (no output) If the number is divisible by 5, it will give an output “fizz.” If the number is divisible by 3, it will give an output \"buzz.\" Otherwise, it will give the output of that  mber."
   ]
  },
  {
   "cell_type": "code",
   "execution_count": null,
   "id": "17d3acfa-c77d-45ad-a30e-e4d48d6e2a15",
   "metadata": {},
   "outputs": [],
   "source": []
  }
 ],
 "metadata": {
  "kernelspec": {
   "display_name": "Python 3 (ipykernel)",
   "language": "python",
   "name": "python3"
  },
  "language_info": {
   "codemirror_mode": {
    "name": "ipython",
    "version": 3
   },
   "file_extension": ".py",
   "mimetype": "text/x-python",
   "name": "python",
   "nbconvert_exporter": "python",
   "pygments_lexer": "ipython3",
   "version": "3.12.4"
  }
 },
 "nbformat": 4,
 "nbformat_minor": 5
}
