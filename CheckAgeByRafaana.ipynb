{
 "cells": [
  {
   "cell_type": "code",
   "execution_count": null,
   "id": "09734dab-9c45-4335-b6cd-ffe284804953",
   "metadata": {},
   "outputs": [
    {
     "name": "stdout",
     "output_type": "stream",
     "text": [
      "Enter your age\n"
     ]
    }
   ],
   "source": [
    "print(\"Enter your age\")\n",
    "age=int(input())\n",
    "if 9<=age<=20:\n",
    "  print(\"You can enroll in Mr.Raj's class\")\n",
    "else:\n",
    "  print(\"You cannot enroll in Mr.Raj's class\") \n",
    "  "
   ]
  },
  {
   "cell_type": "code",
   "execution_count": null,
   "id": "66c174d6-cbcb-4bec-b567-29d0eee635b5",
   "metadata": {},
   "outputs": [],
   "source": []
  },
  {
   "cell_type": "code",
   "execution_count": null,
   "id": "4d067c7e-a875-43c7-99cb-096e9ad5b8c1",
   "metadata": {},
   "outputs": [],
   "source": []
  }
 ],
 "metadata": {
  "kernelspec": {
   "display_name": "Python 3 (ipykernel)",
   "language": "python",
   "name": "python3"
  },
  "language_info": {
   "codemirror_mode": {
    "name": "ipython",
    "version": 3
   },
   "file_extension": ".py",
   "mimetype": "text/x-python",
   "name": "python",
   "nbconvert_exporter": "python",
   "pygments_lexer": "ipython3",
   "version": "3.12.4"
  }
 },
 "nbformat": 4,
 "nbformat_minor": 5
}
