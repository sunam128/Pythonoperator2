{
 "cells": [
  {
   "cell_type": "code",
   "execution_count": null,
   "id": "94617ec6-8ac1-4303-b346-0c1c59070aff",
   "metadata": {},
   "outputs": [],
   "source": [
    "height = float(input(\"Enter your height in m: \"))\n",
    "\n",
    "weight = float(input(\"Enter your weight in kg: \"))\n",
    "\n",
    "BMI = weight / ((height)**2) \n",
    "print(\"Your BMI is\", BMI)\n",
    "\n",
    "if BMI <= 18.4:\n",
    "\n",
    "   print(\"You are underweight.\")\n",
    "\n",
    "elif BMI <= 24.9:\n",
    "\n",
    "   print(\"You are healthy.\")\n",
    "\n",
    "elif BMI <= 29.9:\n",
    "\n",
    "   print(\"You are over weight.\")\n",
    "\n",
    "elif BMI <= 34.9:\n",
    "\n",
    "   print(\"You are severely over weight.\")\n",
    "\n",
    "elif BMI <= 39.9:\n",
    "\n",
    "   print(\"You are obese.\")\n",
    "\n",
    "else:\n",
    "\n",
    "   print(\"You are severely obese.\")"
   ]
  },
  {
   "cell_type": "code",
   "execution_count": null,
   "id": "7f0ad17f-0b9a-4b05-a448-42c4c4c3b2fa",
   "metadata": {},
   "outputs": [],
   "source": [
    "a = 10\n",
    "\n",
    "b = 12\n",
    "\n",
    "c = 12\n",
    "print(a != b)\n",
    "\n",
    "print(b != c)\n",
    "\n",
    "a = \"python\"\n",
    "\n",
    "b = \"coding\"\n",
    "\n",
    "if (a != b) :\n",
    "\n",
    "   print(a, 'and', b, 'are different.')\n",
    "\n",
    "a = 4\n",
    "\n",
    "b = 5\n",
    "\n",
    "if ((a == 1) != (b == 5)):\n",
    "\n",
    "   print('Hello')\n",
    "\n",
    "a = int(input(\"enter a number\"))\n",
    "\n",
    "if a%2 != 0:\n",
    "\n",
    "   print(a, \"is not even number.\")"
   ]
  },
  {
   "cell_type": "code",
   "execution_count": null,
   "id": "e5efb5a4-bc3d-477d-9db6-5bca98a528c9",
   "metadata": {},
   "outputs": [],
   "source": []
  },
  {
   "cell_type": "code",
   "execution_count": null,
   "id": "161fa590-e505-480d-89cf-6c751c6a73c7",
   "metadata": {},
   "outputs": [],
   "source": []
  },
  {
   "cell_type": "code",
   "execution_count": 5,
   "id": "9847b10b-b75d-4f94-80a1-28d41d46409c",
   "metadata": {},
   "outputs": [
    {
     "name": "stdin",
     "output_type": "stream",
     "text": [
      "Enter a character  2\n"
     ]
    },
    {
     "name": "stdout",
     "output_type": "stream",
     "text": [
      "It is not an alphabet\n"
     ]
    }
   ],
   "source": [
    "c=input(\"Enter a character \")\n",
    "\n",
    "if ((c>=\"A\" and c<=\"Z\") or (c>=\"a\" and c<=\"z\")):\n",
    "\n",
    "   print(\"It is an alphabet\")\n",
    "\n",
    "else:\n",
    "\n",
    "   print(\"It is not an alphabet\")"
   ]
  },
  {
   "cell_type": "raw",
   "id": "de22da2f-c900-432e-81c5-3c90cb5ca7cf",
   "metadata": {},
   "source": [
    "medical_cause=input(\"did you have a medical cause Y or N: \")\n",
    "\n",
    "#Take input of the attendance\n",
    "\n",
    "atten = int(input(\"enter the attendance of the student: \"))\n",
    "\n",
    "#checking the user input predicting output accordingly\n",
    "\n",
    "if medical_cause == 'Y': #checking the condition 1\n",
    "\n",
    "  print (\"You are allowed\")\n",
    "\n",
    "else:\n",
    "\n",
    "  if atten>=75: #checking the condition 2\n",
    "\n",
    "     print (\"Allowed\")\n",
    "\n",
    "  else:\n",
    "\n",
    "     print (\"Not allowed\")"
   ]
  },
  {
   "cell_type": "code",
   "execution_count": 17,
   "id": "ccbba9e3-eda1-4d29-920c-4050ee09a191",
   "metadata": {},
   "outputs": [
    {
     "name": "stdout",
     "output_type": "stream",
     "text": [
      "Type 1 for two wheelers or type 2 for four wheelers\n"
     ]
    },
    {
     "name": "stdin",
     "output_type": "stream",
     "text": [
      " 2\n"
     ]
    },
    {
     "name": "stdout",
     "output_type": "stream",
     "text": [
      "Type 1 for sedan and type 2 for SUV\n"
     ]
    },
    {
     "name": "stdin",
     "output_type": "stream",
     "text": [
      " 1\n"
     ]
    },
    {
     "name": "stdout",
     "output_type": "stream",
     "text": [
      "User has chosen sedan\n"
     ]
    }
   ],
   "source": [
    "print(\"Type 1 for two wheelers or type 2 for four wheelers\")\n",
    "ride=int(input())\n",
    "if ride==1:\n",
    "    print(\"Type 1 for motorbike or type 2 for scooter\")\n",
    "    ride1=int(input())\n",
    "    if ride1==1:\n",
    "        print(\"User has chosen motorbike\")\n",
    "    else:\n",
    "        print(\"User has chosen scooter\")\n",
    "elif ride==2:\n",
    "    print(\"Type 1 for sedan and type 2 for SUV\")\n",
    "    ride2=int(input())\n",
    "    if ride2==1:\n",
    "        \n",
    "      print(\"User has chosen sedan\")\n",
    "    else:\n",
    "        print(\"User has chosen SUV\")\n",
    "else:\n",
    "    print(\"Invalid input\")\n",
    "    "
   ]
  },
  {
   "cell_type": "code",
   "execution_count": null,
   "id": "dd190384-c4cc-4efa-9502-4d3423856d90",
   "metadata": {},
   "outputs": [],
   "source": []
  }
 ],
 "metadata": {
  "kernelspec": {
   "display_name": "Python 3 (ipykernel)",
   "language": "python",
   "name": "python3"
  },
  "language_info": {
   "codemirror_mode": {
    "name": "ipython",
    "version": 3
   },
   "file_extension": ".py",
   "mimetype": "text/x-python",
   "name": "python",
   "nbconvert_exporter": "python",
   "pygments_lexer": "ipython3",
   "version": "3.12.4"
  }
 },
 "nbformat": 4,
 "nbformat_minor": 5
}
