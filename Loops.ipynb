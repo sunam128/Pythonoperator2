{
 "cells": [
  {
   "cell_type": "code",
   "execution_count": 3,
   "id": "931b15d3-4efd-419a-84a5-81186543f5a6",
   "metadata": {},
   "outputs": [
    {
     "name": "stdout",
     "output_type": "stream",
     "text": [
      "Enter a number to check if it is odd\n"
     ]
    },
    {
     "name": "stdin",
     "output_type": "stream",
     "text": [
      " 4\n"
     ]
    },
    {
     "name": "stdout",
     "output_type": "stream",
     "text": [
      "The number is not odd\n"
     ]
    }
   ],
   "source": [
    "print(\"Enter a number to check if it is odd\")\n",
    "n=int(input())\n",
    "if (n%2==1):\n",
    "    print(\"The number is odd\")\n",
    "else:\n",
    "    print(\"The number is not odd\")"
   ]
  },
  {
   "cell_type": "code",
   "execution_count": 7,
   "id": "1d9180c7-d1ad-4494-a395-b3bfba97bdeb",
   "metadata": {},
   "outputs": [
    {
     "name": "stdout",
     "output_type": "stream",
     "text": [
      "1 3 5 7 9 11 13 15 17 19 "
     ]
    }
   ],
   "source": [
    "n=1\n",
    "\n",
    "for i in range(n,20,2):\n",
    "\n",
    "   print(i, end=\" \")"
   ]
  },
  {
   "cell_type": "code",
   "execution_count": 11,
   "id": "c3f2d155-9fae-4daf-aa4b-e23d9ff45cf8",
   "metadata": {},
   "outputs": [
    {
     "name": "stdout",
     "output_type": "stream",
     "text": [
      "2 4 6 8 10 12 14 16 18 20 "
     ]
    }
   ],
   "source": [
    "\n",
    "\n",
    "for i in range(2,21,2):\n",
    "\n",
    "   print(i, end=\" \")"
   ]
  },
  {
   "cell_type": "code",
   "execution_count": 27,
   "id": "0b950daf-f407-422d-abaa-9404111faf04",
   "metadata": {},
   "outputs": [
    {
     "name": "stdin",
     "output_type": "stream",
     "text": [
      "Enter a number 20\n"
     ]
    },
    {
     "name": "stdout",
     "output_type": "stream",
     "text": [
      "20   17   14   11   8   5   2   "
     ]
    }
   ],
   "source": [
    "n=int(input(\"Enter a number\"))\n",
    "for i in range(n,0,-3):\n",
    "    print(i, end=\"   \")"
   ]
  },
  {
   "cell_type": "code",
   "execution_count": null,
   "id": "3ef441ad-8c37-49ba-8b28-f5a2a79a4f67",
   "metadata": {},
   "outputs": [],
   "source": []
  }
 ],
 "metadata": {
  "kernelspec": {
   "display_name": "Python 3 (ipykernel)",
   "language": "python",
   "name": "python3"
  },
  "language_info": {
   "codemirror_mode": {
    "name": "ipython",
    "version": 3
   },
   "file_extension": ".py",
   "mimetype": "text/x-python",
   "name": "python",
   "nbconvert_exporter": "python",
   "pygments_lexer": "ipython3",
   "version": "3.12.4"
  }
 },
 "nbformat": 4,
 "nbformat_minor": 5
}
