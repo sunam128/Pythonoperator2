{
 "cells": [
  {
   "cell_type": "code",
   "execution_count": 1,
   "id": "80f03c56-8c6e-4338-83e5-0f0f77ed2d9d",
   "metadata": {},
   "outputs": [
    {
     "name": "stdout",
     "output_type": "stream",
     "text": [
      "sum of a and b is 12\n"
     ]
    }
   ],
   "source": [
    "a=5\n",
    "b=7\n",
    "print(\"sum of a and b is\",(a+b) )"
   ]
  },
  {
   "cell_type": "code",
   "execution_count": 7,
   "id": "2868a18c-9dd7-4551-a446-10cc2a3b386a",
   "metadata": {},
   "outputs": [
    {
     "name": "stdin",
     "output_type": "stream",
     "text": [
      "Enter 1st number 34\n",
      "Enter 2nd number 50\n",
      "Enter 3rd number 55\n"
     ]
    },
    {
     "name": "stdout",
     "output_type": "stream",
     "text": [
      "I am using or operator\n"
     ]
    }
   ],
   "source": [
    "a = int(input(\"Enter 1st number\"))\n",
    "\n",
    "b = int(input(\"Enter 2nd number\"))\n",
    "\n",
    "c = int(input(\"Enter 3rd number\"))\n",
    "\n",
    "if ( a > b or a < c):\n",
    "\n",
    "   print(\"I am using or operator\")\n",
    "\n",
    "elif (a < b and a > c):\n",
    "\n",
    "   print(\"I am using and operator\")"
   ]
  },
  {
   "cell_type": "code",
   "execution_count": 11,
   "id": "075fe1a3-8bc1-4e13-a29b-d467eeb1164f",
   "metadata": {},
   "outputs": [
    {
     "name": "stdout",
     "output_type": "stream",
     "text": [
      "True\n",
      "False\n",
      "python and coding are different.\n",
      "Hello\n"
     ]
    },
    {
     "name": "stdin",
     "output_type": "stream",
     "text": [
      "enter a number 89\n"
     ]
    },
    {
     "name": "stdout",
     "output_type": "stream",
     "text": [
      "89 is not even number.\n"
     ]
    }
   ],
   "source": [
    "a = 10\n",
    "\n",
    "b = 12\n",
    "\n",
    "c = 12\n",
    "print(a != b)\n",
    "\n",
    "print(b != c)\n",
    "\n",
    "a = \"python\"\n",
    "\n",
    "b = \"coding\"\n",
    "\n",
    "if (a != b) :\n",
    "\n",
    "   print(a, 'and', b, 'are different.')\n",
    "\n",
    "a = 4\n",
    "\n",
    "b = 5\n",
    "\n",
    "if ((a == 1) != (b == 5)):\n",
    "\n",
    "   print('Hello')\n",
    "\n",
    "a = int(input(\"enter a number\"))\n",
    "\n",
    "if a%2 != 0:\n",
    "\n",
    "   print(a, \"is not even number.\")"
   ]
  },
  {
   "cell_type": "code",
   "execution_count": 17,
   "id": "4f6a3214-bbc4-4ca1-ac79-6711e218a881",
   "metadata": {},
   "outputs": [
    {
     "name": "stdin",
     "output_type": "stream",
     "text": [
      "Enter your height in m:  1.75\n",
      "Enter your weight in kg:  65\n"
     ]
    },
    {
     "name": "stdout",
     "output_type": "stream",
     "text": [
      "Your BMI is 21.224489795918366\n",
      "You are healthy.\n"
     ]
    }
   ],
   "source": [
    "height = float(input(\"Enter your height in m: \"))\n",
    "\n",
    "weight = float(input(\"Enter your weight in kg: \"))\n",
    "\n",
    "BMI = weight / ((height)**2) \n",
    "print(\"Your BMI is\", BMI)\n",
    "\n",
    "if BMI <= 18.4:\n",
    "\n",
    "   print(\"You are underweight.\")\n",
    "\n",
    "elif BMI <= 24.9:\n",
    "\n",
    "   print(\"You are healthy.\")\n",
    "\n",
    "elif BMI <= 29.9:\n",
    "\n",
    "   print(\"You are over weight.\")\n",
    "\n",
    "elif BMI <= 34.9:\n",
    "\n",
    "   print(\"You are severely over weight.\")\n",
    "\n",
    "elif BMI <= 39.9:\n",
    "\n",
    "   print(\"You are obese.\")\n",
    "\n",
    "else:\n",
    "\n",
    "   print(\"You are severely obese.\")\n"
   ]
  },
  {
   "cell_type": "code",
   "execution_count": null,
   "id": "a11a6013-01e7-4ec7-92d4-190ff1a1dc62",
   "metadata": {},
   "outputs": [],
   "source": []
  }
 ],
 "metadata": {
  "kernelspec": {
   "display_name": "Python 3 (ipykernel)",
   "language": "python",
   "name": "python3"
  },
  "language_info": {
   "codemirror_mode": {
    "name": "ipython",
    "version": 3
   },
   "file_extension": ".py",
   "mimetype": "text/x-python",
   "name": "python",
   "nbconvert_exporter": "python",
   "pygments_lexer": "ipython3",
   "version": "3.12.4"
  }
 },
 "nbformat": 4,
 "nbformat_minor": 5
}
